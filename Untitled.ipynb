{
 "cells": [
  {
   "cell_type": "code",
   "execution_count": null,
   "id": "6d811bb9-1d03-4439-bbce-40bd7f76d346",
   "metadata": {},
   "outputs": [],
   "source": []
  }
 ],
 "metadata": {
  "kernelspec": {
   "display_name": "",
   "name": ""
  },
  "language_info": {
   "name": ""
  }
 },
 "nbformat": 4,
 "nbformat_minor": 5
}
